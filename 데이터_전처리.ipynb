{
 "cells": [
  {
   "cell_type": "code",
   "execution_count": 179,
   "id": "7510730c",
   "metadata": {},
   "outputs": [],
   "source": [
    "import pandas as pd\n",
    "import matplotlib.pyplot as plt\n",
    "import seaborn as sns\n"
   ]
  },
  {
   "cell_type": "code",
   "execution_count": 163,
   "id": "6415c1b9",
   "metadata": {},
   "outputs": [],
   "source": [
    "movie_data = pd.read_csv(\"INDIA/시리즈온_영화_데이터_del_dup_3.csv\", encoding = 'utf-8-sig')"
   ]
  },
  {
   "cell_type": "code",
   "execution_count": 176,
   "id": "30805129",
   "metadata": {
    "scrolled": false
   },
   "outputs": [
    {
     "name": "stdout",
     "output_type": "stream",
     "text": [
      "<class 'pandas.core.frame.DataFrame'>\n",
      "RangeIndex: 29186 entries, 0 to 29185\n",
      "Data columns (total 24 columns):\n",
      " #   Column        Non-Null Count  Dtype  \n",
      "---  ------        --------------  -----  \n",
      " 0   title         29186 non-null  object \n",
      " 1   year          29186 non-null  int64  \n",
      " 2   version       29186 non-null  object \n",
      " 3   type          29186 non-null  object \n",
      " 4   director      29186 non-null  object \n",
      " 5   actor         29186 non-null  object \n",
      " 6   age           29186 non-null  object \n",
      " 7   runtime       29186 non-null  int64  \n",
      " 8   rating        29186 non-null  float64\n",
      " 9   like          29186 non-null  int64  \n",
      " 10  comment       29186 non-null  int64  \n",
      " 11  isDRM         29186 non-null  object \n",
      " 12  cost          29186 non-null  int64  \n",
      " 13  period        29186 non-null  object \n",
      " 14  is_action     29186 non-null  int64  \n",
      " 15  is_comedy     29186 non-null  int64  \n",
      " 16  is_drama      29186 non-null  int64  \n",
      " 17  is_melo       29186 non-null  int64  \n",
      " 18  is_horror     29186 non-null  int64  \n",
      " 19  is_fantasy    29186 non-null  int64  \n",
      " 20  is_animation  29186 non-null  int64  \n",
      " 21  is_DQ         29186 non-null  int64  \n",
      " 22  is_indie      29186 non-null  int64  \n",
      " 23  is_concert    29186 non-null  int64  \n",
      "dtypes: float64(1), int64(15), object(8)\n",
      "memory usage: 5.3+ MB\n"
     ]
    }
   ],
   "source": [
    "movie_data.info()"
   ]
  },
  {
   "cell_type": "code",
   "execution_count": 177,
   "id": "279d39ff",
   "metadata": {
    "scrolled": true
   },
   "outputs": [],
   "source": [
    "# 2번\n",
    "# 평점이 'Null'이거나 '0.0'인 경우를 '0.0'으로 변경하고, 데이터 타입을 float으로 변환\n",
    "movie_data['rating'] = movie_data['rating'].replace('Null', '0.0').astype(float)\n"
   ]
  },
  {
   "cell_type": "code",
   "execution_count": 166,
   "id": "a72b230d",
   "metadata": {},
   "outputs": [],
   "source": [
    "# 'age' 컬럼에서 '청소년 관람불가'를 '19세 관람가'로 변경\n",
    "movie_data['age'] = movie_data['age'].replace('청소년 관람불가', '19세 관람가')\n"
   ]
  },
  {
   "cell_type": "code",
   "execution_count": 167,
   "id": "dd950527",
   "metadata": {},
   "outputs": [],
   "source": [
    "# 'isDRM' 컬럼에서 'Null'을 'DRM_free'로 변경\n",
    "movie_data['isDRM'] = movie_data['isDRM'].replace('Null', 'DRM_free')\n"
   ]
  },
  {
   "cell_type": "code",
   "execution_count": 168,
   "id": "6b5edbb0",
   "metadata": {},
   "outputs": [],
   "source": [
    "# 'year' 컬럼에서 'Null'을 0으로 변경\n",
    "movie_data['year'] = movie_data['year'].replace('Null', 0).astype(float)\n",
    "\n",
    "movie_data['year'] = movie_data['year'].astype(int)\n"
   ]
  },
  {
   "cell_type": "code",
   "execution_count": 169,
   "id": "1a0a67b1",
   "metadata": {},
   "outputs": [],
   "source": [
    "movie_data['year'] = movie_data['year'].astype('int64')"
   ]
  },
  {
   "cell_type": "code",
   "execution_count": 170,
   "id": "a33266fd",
   "metadata": {},
   "outputs": [],
   "source": [
    "# 'runtime' 컬럼에서 '분' 제거하고 정수형으로 변환\n",
    "movie_data['runtime'] = movie_data['runtime'].str.replace('분', '').astype(int)\n",
    "movie_data['runtime'] = movie_data['runtime'].astype('int64')"
   ]
  },
  {
   "cell_type": "code",
   "execution_count": null,
   "id": "3eb70fc1",
   "metadata": {},
   "outputs": [],
   "source": []
  },
  {
   "cell_type": "code",
   "execution_count": 171,
   "id": "98c2c223",
   "metadata": {
    "scrolled": false
   },
   "outputs": [],
   "source": [
    "# 'like' 컬럼에서 'Null' 값을 '0'으로 치환하고 쉼표를 제거한 후 정수형으로 변환\n",
    "movie_data['like'] = movie_data['like'].astype(str).replace('Null', '0').str.replace(',', '').astype(float)\n",
    "\n",
    "movie_data['like'] = movie_data['like'].astype(\"int64\")\n",
    "\n",
    "\n",
    "# 'cost' 컬럼에서 'Null' 값을 '0'으로 치환하고 쉼표를 제거한 후 정수형으로 변환\n",
    "movie_data['cost'] = movie_data['cost'].astype(str).replace('Null', '0').str.replace(',', '').astype(float)\n",
    "\n",
    "movie_data['cost'] = movie_data['cost'].astype('int64')"
   ]
  },
  {
   "cell_type": "code",
   "execution_count": null,
   "id": "768645fa",
   "metadata": {},
   "outputs": [],
   "source": []
  },
  {
   "cell_type": "code",
   "execution_count": 146,
   "id": "90d35c10",
   "metadata": {},
   "outputs": [],
   "source": [
    "# 데이터프레임을 CSV 파일로 저장\n",
    "movie_data.to_csv('processed_data_2.csv', index=False)\n"
   ]
  },
  {
   "cell_type": "code",
   "execution_count": 172,
   "id": "f416cb7c",
   "metadata": {},
   "outputs": [
    {
     "data": {
      "text/plain": [
       "(29186, 24)"
      ]
     },
     "execution_count": 172,
     "metadata": {},
     "output_type": "execute_result"
    }
   ],
   "source": [
    "movie_data.shape"
   ]
  }
 ],
 "metadata": {
  "kernelspec": {
   "display_name": "Python 3 (ipykernel)",
   "language": "python",
   "name": "python3"
  },
  "language_info": {
   "codemirror_mode": {
    "name": "ipython",
    "version": 3
   },
   "file_extension": ".py",
   "mimetype": "text/x-python",
   "name": "python",
   "nbconvert_exporter": "python",
   "pygments_lexer": "ipython3",
   "version": "3.11.5"
  }
 },
 "nbformat": 4,
 "nbformat_minor": 5
}
